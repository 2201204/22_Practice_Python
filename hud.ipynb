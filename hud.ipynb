{
  "nbformat": 4,
  "nbformat_minor": 0,
  "metadata": {
    "colab": {
      "provenance": [],
      "authorship_tag": "ABX9TyO4sxwLa9sJLrhmXFmaCAqV",
      "include_colab_link": true
    },
    "kernelspec": {
      "name": "python3",
      "display_name": "Python 3"
    },
    "language_info": {
      "name": "python"
    }
  },
  "cells": [
    {
      "cell_type": "markdown",
      "metadata": {
        "id": "view-in-github",
        "colab_type": "text"
      },
      "source": [
        "<a href=\"https://colab.research.google.com/github/2201204/22_Practice_Python/blob/main/hud.ipynb\" target=\"_parent\"><img src=\"https://colab.research.google.com/assets/colab-badge.svg\" alt=\"Open In Colab\"/></a>"
      ]
    },
    {
      "cell_type": "code",
      "execution_count": null,
      "metadata": {
        "id": "yres1bAaIA-n",
        "colab": {
          "base_uri": "https://localhost:8080/"
        },
        "outputId": "3503e077-e846-4bdb-ff31-87aaf1e66b1b"
      },
      "outputs": [
        {
          "output_type": "stream",
          "name": "stdout",
          "text": [
            "Welcome Python, 저는 파이썬을 좋아합니다.\n"
          ]
        }
      ],
      "source": [
        "print(\"Welcome Python, 저는 파이썬을 좋아합니다.\")"
      ]
    },
    {
      "cell_type": "code",
      "source": [
        "hi=(\"Welcome Python,\")\n",
        "data=(\"저는 파이썬을 좋아합니다.\")\n",
        "print(hi,data)"
      ],
      "metadata": {
        "colab": {
          "base_uri": "https://localhost:8080/"
        },
        "id": "fQFoROJDExTh",
        "outputId": "bea6533d-6aee-408f-d031-5077fa73eefa"
      },
      "execution_count": 7,
      "outputs": [
        {
          "output_type": "stream",
          "name": "stdout",
          "text": [
            "Welcome Python, 저는 파이썬을 좋아합니다.\n"
          ]
        }
      ]
    },
    {
      "cell_type": "code",
      "source": [
        "print(\"안녕하세요?\", \"박상엽님, 기초파이썬 강좌를 수강하신 것을 축하드립니다.\")"
      ],
      "metadata": {
        "colab": {
          "base_uri": "https://localhost:8080/"
        },
        "id": "Q15ce9Jviz4K",
        "outputId": "204abbb8-7fdb-408a-9fdb-b37e19913f68"
      },
      "execution_count": null,
      "outputs": [
        {
          "output_type": "stream",
          "name": "stdout",
          "text": [
            "안녕하세요? 박상엽님, 기초파이썬 강좌를 수강하신 것을 축하드립니다.\n"
          ]
        }
      ]
    },
    {
      "cell_type": "code",
      "source": [
        "hi=(\"안녕하세요?\")\n",
        "name=(\"박상엽 님,\")\n",
        "data=(\"기초 파이썬 강좌를 수강하신것을 축하드립니다.\")\n",
        "print(hi,name,data)"
      ],
      "metadata": {
        "colab": {
          "base_uri": "https://localhost:8080/"
        },
        "id": "2mdis2s4-X9D",
        "outputId": "973b7c28-1798-4ac8-d654-1c47922405dc"
      },
      "execution_count": 1,
      "outputs": [
        {
          "output_type": "stream",
          "name": "stdout",
          "text": [
            "안녕하세요? 박상엽 님, 기초 파이썬 강좌를 수강하신것을 축하드립니다.\n"
          ]
        }
      ]
    },
    {
      "cell_type": "code",
      "source": [
        "print(\"parkSangYeop\")\n",
        "print(\"Parksangyeop\")\n",
        "print(\"park_sang_yeop\")"
      ],
      "metadata": {
        "colab": {
          "base_uri": "https://localhost:8080/"
        },
        "id": "ef1wfBO2A09z",
        "outputId": "56b37654-0965-4da8-ed7c-a7fda9bbb1c9"
      },
      "execution_count": 2,
      "outputs": [
        {
          "output_type": "stream",
          "name": "stdout",
          "text": [
            "parkSangYeop\n",
            "Parksangyeop\n",
            "park_sang_yeop\n"
          ]
        }
      ]
    },
    {
      "cell_type": "code",
      "source": [
        "print(\"*\"*40)\n",
        "print(\"* 제1조 1항 대한민국은 민주공화국이다. *\")\n",
        "print(\"*\"*40)"
      ],
      "metadata": {
        "colab": {
          "base_uri": "https://localhost:8080/"
        },
        "id": "ttyhDq0jk4mC",
        "outputId": "716ce8e6-bd57-48df-e6a9-867c537dd96b"
      },
      "execution_count": 6,
      "outputs": [
        {
          "output_type": "stream",
          "name": "stdout",
          "text": [
            "****************************************\n",
            "* 제1조 1항 대한민국은 민주공화국이다. *\n",
            "****************************************\n"
          ]
        }
      ]
    },
    {
      "cell_type": "code",
      "source": [
        "name=input(\"성명을 입력하시오:\")\n",
        "age=input(\"나이를 입력하시오:\")\n",
        "addr=input(\"주소를 입력하시오:\")\n",
        "print(name,age,addr)\n",
        "print(name)\n",
        "print(age)\n",
        "print(addr)"
      ],
      "metadata": {
        "colab": {
          "base_uri": "https://localhost:8080/"
        },
        "id": "VTNuwHsPVqRl",
        "outputId": "97d433ab-0545-480a-e7c4-f32f9c2e1aed"
      },
      "execution_count": null,
      "outputs": [
        {
          "output_type": "stream",
          "name": "stdout",
          "text": [
            "성명을 입력하시오:박상엽\n",
            "나이를 입력하시오:20\n",
            "주소를 입력하시오:전주시\n",
            "박상엽 20 전주시\n",
            "박상엽\n",
            "20\n",
            "전주시\n"
          ]
        }
      ]
    },
    {
      "cell_type": "code",
      "source": [
        "x=9\n",
        "y=9\n",
        "mult=x*y\n",
        "print(x,\"*\",y,\"는\",mult,\"입니다.\")"
      ],
      "metadata": {
        "colab": {
          "base_uri": "https://localhost:8080/"
        },
        "id": "7bAzS79GRXPl",
        "outputId": "a051d31d-9e72-4b51-f092-0d785cfcda09"
      },
      "execution_count": 8,
      "outputs": [
        {
          "output_type": "stream",
          "name": "stdout",
          "text": [
            "9 * 9 는 81 입니다.\n"
          ]
        }
      ]
    },
    {
      "cell_type": "code",
      "source": [
        "print(1+2,2-3,3*4,4/4)\n",
        "print(1+2)\n",
        "print(2-3)\n",
        "print(3*4)\n",
        "print(4/4)"
      ],
      "metadata": {
        "colab": {
          "base_uri": "https://localhost:8080/"
        },
        "id": "9ZakhhM1SDlY",
        "outputId": "b29bcdaa-b4bf-4499-b31c-4fea3f2aaa90"
      },
      "execution_count": null,
      "outputs": [
        {
          "output_type": "stream",
          "name": "stdout",
          "text": [
            "3 -1 12 1.0\n",
            "3\n",
            "-1\n",
            "12\n",
            "1.0\n"
          ]
        }
      ]
    },
    {
      "cell_type": "code",
      "source": [
        "x=int(input(\"첫번째 정수를 입력하시오:\"))\n",
        "y=int(input(\"두번째 정수를 입력하시오:\"))\n",
        "z=int(input(\"세번째 정수를 입력하시오:\"))\n",
        "sum=x+y-z\n",
        "print(x,y,z ,\"sum의 값은\",sum,\"입니다.\")"
      ],
      "metadata": {
        "colab": {
          "base_uri": "https://localhost:8080/"
        },
        "id": "1pW7_XaGVomW",
        "outputId": "43dbd635-81a2-4d25-c9bc-85610c29f4c0"
      },
      "execution_count": null,
      "outputs": [
        {
          "output_type": "stream",
          "name": "stdout",
          "text": [
            "첫번째 정수를 입력하시오:100\n",
            "두번째 정수를 입력하시오:200\n",
            "세번째 정수를 입력하시오:50\n",
            "100 200 50 sum의 값은 250 입니다.\n"
          ]
        }
      ]
    },
    {
      "cell_type": "code",
      "source": [
        "x=int(input(\"첫번쨰 정수를 입력하시오:\"))\n",
        "y=int(input(\"두번쨰 정수를 입력하시오:\"))\n",
        "print(x+y)"
      ],
      "metadata": {
        "colab": {
          "base_uri": "https://localhost:8080/"
        },
        "id": "TDiaVuIFdkeN",
        "outputId": "59583c67-7a0f-4303-ab0e-780cb743797e"
      },
      "execution_count": null,
      "outputs": [
        {
          "output_type": "stream",
          "name": "stdout",
          "text": [
            "첫번쨰 정수를 입력하시오:9\n",
            "두번쨰 정수를 입력하시오:6\n",
            "15\n"
          ]
        }
      ]
    },
    {
      "cell_type": "code",
      "source": [
        "x=int(input(\"첫번쨰 정수를 입력하시오:\"))\n",
        "y=int(input(\"두번쨰 정수를 입력하시오:\"))\n",
        "print(x+y)"
      ],
      "metadata": {
        "colab": {
          "base_uri": "https://localhost:8080/"
        },
        "id": "VDz9TtC_gQNe",
        "outputId": "01510185-2511-41cd-e96d-a26af7ca8a87"
      },
      "execution_count": null,
      "outputs": [
        {
          "output_type": "stream",
          "name": "stdout",
          "text": [
            "첫번쨰 정수를 입력하시오:7\n",
            "두번쨰 정수를 입력하시오:4\n",
            "11\n"
          ]
        }
      ]
    },
    {
      "cell_type": "code",
      "source": [
        "x=int(input(\"첫번쨰 정수를 입력하시오:\"))\n",
        "y=int(input(\"두번쨰 정수를 입력하시오:\"))\n",
        "print((x*1000)+y)"
      ],
      "metadata": {
        "colab": {
          "base_uri": "https://localhost:8080/"
        },
        "id": "u2FFq-28lq5r",
        "outputId": "e6545cdf-1a2e-4132-8a8e-b2ad1620951c"
      },
      "execution_count": null,
      "outputs": [
        {
          "output_type": "stream",
          "name": "stdout",
          "text": [
            "첫번쨰 정수를 입력하시오:100\n",
            "두번쨰 정수를 입력하시오:100\n",
            "100100\n"
          ]
        }
      ]
    },
    {
      "cell_type": "code",
      "source": [
        "x=int(input(\"첫번쨰 정수를 입력하시오:\"))\n",
        "y=int(input(\"두번쨰 정수를 입력하시오:\"))\n",
        "print(x+y)"
      ],
      "metadata": {
        "colab": {
          "base_uri": "https://localhost:8080/"
        },
        "id": "5bNqljShmpAo",
        "outputId": "e7634569-61b4-4f8d-916d-0fc83f03aae5"
      },
      "execution_count": null,
      "outputs": [
        {
          "output_type": "stream",
          "name": "stdout",
          "text": [
            "첫번쨰 정수를 입력하시오:100\n",
            "두번쨰 정수를 입력하시오:100\n",
            "200\n"
          ]
        }
      ]
    },
    {
      "cell_type": "code",
      "source": [
        "x=input(\"첫번째 정수를 입력하시오.:\")\n",
        "y=input(\"두번째 정수를 입력하시오.:\")\n",
        "sum=int(x)+int(y)\n",
        "print(sum)"
      ],
      "metadata": {
        "colab": {
          "base_uri": "https://localhost:8080/"
        },
        "id": "NmrpP-PXNNdk",
        "outputId": "79931e69-60d8-4caa-8f35-b193f6fc7c3c"
      },
      "execution_count": 9,
      "outputs": [
        {
          "output_type": "stream",
          "name": "stdout",
          "text": [
            "첫번째 정수를 입력하시오.:100\n",
            "두번째 정수를 입력하시오.:100\n",
            "200\n"
          ]
        }
      ]
    },
    {
      "cell_type": "code",
      "source": [
        "X=input(\"정수를 입력하시오:\")\n",
        "print(\"나의 등록금은\"+str(200)+\"만원대이다.\")"
      ],
      "metadata": {
        "colab": {
          "base_uri": "https://localhost:8080/"
        },
        "id": "b5G3iirCnz8C",
        "outputId": "0f18645b-5e81-4abf-afe9-8364493f39c2"
      },
      "execution_count": null,
      "outputs": [
        {
          "output_type": "stream",
          "name": "stdout",
          "text": [
            "정수를 입력하시오:200\n",
            "나의 등록금은200만원대이다.\n"
          ]
        }
      ]
    },
    {
      "cell_type": "code",
      "source": [
        "for i in range(10):print(\"방문을 환영합니다.\")"
      ],
      "metadata": {
        "colab": {
          "base_uri": "https://localhost:8080/"
        },
        "id": "L119qPxNS9CZ",
        "outputId": "76c69920-ba75-4e72-b91b-cdf0767af1d1"
      },
      "execution_count": 11,
      "outputs": [
        {
          "output_type": "stream",
          "name": "stdout",
          "text": [
            "방문을 환영합니다.\n",
            "방문을 환영합니다.\n",
            "방문을 환영합니다.\n",
            "방문을 환영합니다.\n",
            "방문을 환영합니다.\n",
            "방문을 환영합니다.\n",
            "방문을 환영합니다.\n",
            "방문을 환영합니다.\n",
            "방문을 환영합니다.\n",
            "방문을 환영합니다.\n"
          ]
        }
      ]
    }
  ]
}